{
 "cells": [
  {
   "cell_type": "markdown",
   "metadata": {},
   "source": [
    "# 4. SED Fitting to Derive the Global Properties of Galaxies\n",
    "\n",
    "In this step, we will perform spectral energy distribution (SED) fitting using [piXedfit](https://github.com/aabdurrouf/piXedfit) to measure the global (i.e., integrated) stellar population properties of high redshift galaxies. In this example, we will focus on galaxies at redshift range of 4.0<z<5.0 from both cropped regions.  "
   ]
  },
  {
   "cell_type": "code",
   "execution_count": 1,
   "metadata": {},
   "outputs": [],
   "source": [
    "import os, sys\n",
    "import numpy as np\n",
    "from astropy.io import fits\n",
    "import matplotlib.pyplot as plt\n",
    "\n",
    "import warnings\n",
    "warnings.filterwarnings('ignore')\n",
    "\n",
    "%matplotlib inline"
   ]
  },
  {
   "cell_type": "markdown",
   "metadata": {},
   "source": [
    "## 4.1. Select Galaxies and make input photometric data for piXedfit\n",
    "\n",
    "In this step, we select galaxies at 4.0<z<5.0 from cropped region 1 and 2, then store them into new text files, which will then be inputted to piXedfit for SED fitting and measuring their properties."
   ]
  },
  {
   "cell_type": "code",
   "execution_count": 5,
   "metadata": {},
   "outputs": [
    {
     "name": "stdout",
     "output_type": "stream",
     "text": [
      "Number of galaxies selected in region 1: 17\n",
      "Number of galaxies selected in region 2: 26\n"
     ]
    }
   ],
   "source": [
    "# selecting galaxies at 4.0<z<5.0 in cropped region 1\n",
    "data1 = np.loadtxt('ceers_crop1_photo_pz.cat')\n",
    "idx1 = np.where((data1[:,17]>4.0) & (data1[:,17]<5.0))\n",
    "ngals_crop1 = len(idx1[0])\n",
    "print (\"Number of galaxies selected in region 1: %d\" % ngals_crop1)\n",
    "\n",
    "# selecting galaxies at 4.0<z<5.0 in cropped region 2\n",
    "data2 = np.loadtxt('ceers_crop2_photo_pz.cat')\n",
    "idx2 = np.where((data2[:,17]>4.0) & (data2[:,17]<5.0))\n",
    "ngals_crop2 = len(idx2[0])\n",
    "print (\"Number of galaxies selected in region 2: %d\" % ngals_crop2)\n",
    "\n",
    "#==> put into text files: to be inputted to piXedfit\n",
    "file_out = open('ceers_crop1_photo_pz_4z5.cat','w')\n",
    "file_out.write(\"#(1)id (2)x (3)y (4)ra (5)dec (6)f_f115w (7)e_f115w (8)f_f150w (9)e_f150w (10)f_f200w (11)e_f200w (12)f_f277w (13)e_f277w (14)f_f356w (15)e_f356w (16)f_f444w (17)e_f444w (18)photo-z (20)photo-z chi2\\n\")\n",
    "file_out.write(\"# All flux densisties are in units of erg/s/cm^2/Angstrom\\n\")\n",
    "for ii in idx1[0]:\n",
    "    file_out.write(\"%d \" % data1[ii][0])\n",
    "    for xx in range (1,data1.shape[1]-1):\n",
    "        file_out.write(\"%e \" % data1[ii][xx])\n",
    "    file_out.write(\"%e\\n\" % data1[ii][data1.shape[1]-1])\n",
    "file_out.close()\n",
    "        \n",
    "\n",
    "#==> put into text files: to be inputted to piXedfit\n",
    "file_out = open('ceers_crop2_photo_pz_4z5.cat','w')\n",
    "file_out.write(\"#(1)id (2)x (3)y (4)ra (5)dec (6)f_f115w (7)e_f115w (8)f_f150w (9)e_f150w (10)f_f200w (11)e_f200w (12)f_f277w (13)e_f277w (14)f_f356w (15)e_f356w (16)f_f444w (17)e_f444w (18)photo-z (20)photo-z chi2\\n\")\n",
    "file_out.write(\"# All flux densisties are in units of erg/s/cm^2/Angstrom\\n\")\n",
    "for ii in idx2[0]:\n",
    "    file_out.write(\"%d \" % data2[ii][0])\n",
    "    for xx in range (1,data2.shape[1]-1):\n",
    "        file_out.write(\"%e \" % data2[ii][xx])\n",
    "    file_out.write(\"%e\\n\" % data2[ii][data1.shape[1]-1])\n",
    "file_out.close()\n"
   ]
  },
  {
   "cell_type": "markdown",
   "metadata": {},
   "source": [
    "## 4.2. Generate model spectra at rest-frame\n",
    "\n",
    "Script below can be used to generate model spectra at rest-frame. The `save_models_rest_spec` function implements MPI for parallel computation. The script below uses 20 cores (can be changed), therefore it is recommended to execute this script on a cluster.  "
   ]
  },
  {
   "cell_type": "code",
   "execution_count": null,
   "metadata": {},
   "outputs": [],
   "source": [
    "from astropy.cosmology import *\n",
    "\n",
    "from piXedfit.piXedfit_model import save_models_rest_spec\n",
    "\n",
    "imf_type = 1                    # Chabrier (2003)\n",
    "sfh_form = 4                    # double power law SFH form\n",
    "dust_law = 0                    # Charlot & Fall (2000) dust attenuation law\n",
    "duste_switch = 0                # turn off dust emission\n",
    "add_neb_emission = 1            # turn on nebular emission\n",
    "add_agn = 0                     # turn off AGN dusty torus emission\n",
    "\n",
    "nmodels = 70000                 # number of models to be generated\n",
    "nproc = 20                      # number of cores (processors) to be used in calculations \n",
    "\n",
    "max_z = 4.0                     # lowest redshift\n",
    "\n",
    "cosmo1 = FlatLambdaCDM(H0=70.0, Om0=0.3)\n",
    "age_univ = cosmo1.age(max_z)\n",
    "max_log_age = np.log10(age_univ.value)\n",
    "\n",
    "params_range = {'dust1':[0.0,3.0], 'dust2':[0.0,3.0], 'log_age':[-1.0,max_log_age], \n",
    "                'log_alpha':[-2.0,2.0], 'log_beta':[-2.0,2.0]}\n",
    "\n",
    "name_out = 'model_specs_restframe.hdf5'\n",
    "save_models_rest_spec(imf_type=imf_type, sfh_form=sfh_form, dust_law=dust_law, params_range=params_range,\n",
    "                        duste_switch=duste_switch, add_neb_emission=add_neb_emission, add_agn=add_agn,\n",
    "                        nmodels=nmodels, nproc=nproc, name_out=name_out)"
   ]
  },
  {
   "cell_type": "markdown",
   "metadata": {},
   "source": [
    "## 4.3. Run SED fitting"
   ]
  },
  {
   "cell_type": "markdown",
   "metadata": {},
   "source": [
    "### SED fitting for galaxies in cropped region 1"
   ]
  },
  {
   "cell_type": "code",
   "execution_count": null,
   "metadata": {},
   "outputs": [],
   "source": [
    "from piXedfit.piXedfit_fitting import singleSEDfit\n",
    "from piXedfit.piXedfit_fitting import priors\n",
    "\n",
    "# set of filters\n",
    "filters = ['jwst_nircam_f115w', 'jwst_nircam_f150w', 'jwst_nircam_f200w', 'jwst_nircam_f277w',\n",
    "           'jwst_nircam_f356w', 'jwst_nircam_f444w']\n",
    "nbands = len(filters)\n",
    "\n",
    "# index of fluxes in the catalog\n",
    "idx_flux = np.asarray([5, 7, 9, 11, 13, 15])\n",
    "idx_flux = idx_flux.astype(int)\n",
    "# index of flux errors in the catalog\n",
    "idx_flux_err = np.asarray([6, 8, 10, 12, 14, 16])\n",
    "idx_flux_err = idx_flux_err.astype(int)\n",
    "\n",
    "# model spectra at rest-frame\n",
    "models_spec = 'models/model_specs_restframe.hdf5'\n",
    "\n",
    "# fitting method\n",
    "fit_method = 'mcmc'\n",
    "\n",
    "nproc = 20 \n",
    "\n",
    "# open the photometric data\n",
    "data = np.loadtxt('ceers_crop1_photo_pz_4z5.cat')\n",
    "    \n",
    "for ii in range(0,ngals_crop1):\n",
    "    # get the SED\n",
    "    obs_flux = data[ii][idx_flux]\n",
    "    obs_flux_err = data[ii][idx_flux_err]\n",
    "    \n",
    "    # get photometric redshift\n",
    "    gal_z = data[ii][17]\n",
    "    \n",
    "    # define prior for redshift\n",
    "    ranges = {'z':[gal_z-0.7,gal_z+0.7]}\n",
    "    pr = priors(ranges)\n",
    "    params_ranges = pr.params_ranges()\n",
    "    \n",
    "    prior1 = pr.gaussian('z',gal_z,0.5)\n",
    "    params_priors = [prior1]\n",
    "    \n",
    "    # name of output FITS file:\n",
    "    name_out_fits = 'mcmc_crop1_%d.fits' % data[ii][0]\n",
    "    singleSEDfit(obs_flux, obs_flux_err, filters, models_spec, params_ranges=params_ranges, \n",
    "             params_priors=params_priors, fit_method=fit_method, gal_z=None, nrands_z=20, \n",
    "             add_igm_absorption=1, igm_type=1, nwalkers=100, nsteps=600, nproc=nproc, initfit_nmodels_mcmc=30000, \n",
    "             store_full_samplers=1, name_out_fits=name_out_fits)\n"
   ]
  },
  {
   "cell_type": "markdown",
   "metadata": {},
   "source": [
    "### SED fitting for galaxies in cropped region 2"
   ]
  },
  {
   "cell_type": "code",
   "execution_count": null,
   "metadata": {},
   "outputs": [],
   "source": [
    "from piXedfit.piXedfit_fitting import singleSEDfit\n",
    "from piXedfit.piXedfit_fitting import priors\n",
    "\n",
    "# set of filters\n",
    "filters = ['jwst_nircam_f115w', 'jwst_nircam_f150w', 'jwst_nircam_f200w', 'jwst_nircam_f277w',\n",
    "           'jwst_nircam_f356w', 'jwst_nircam_f444w']\n",
    "nbands = len(filters)\n",
    "\n",
    "# index of fluxes in the catalog\n",
    "idx_flux = np.asarray([5, 7, 9, 11, 13, 15])\n",
    "idx_flux = idx_flux.astype(int)\n",
    "# index of flux errors in the catalog\n",
    "idx_flux_err = np.asarray([6, 8, 10, 12, 14, 16])\n",
    "idx_flux_err = idx_flux_err.astype(int)\n",
    "\n",
    "# model spectra at rest-frame\n",
    "models_spec = 'models/model_specs_restframe.hdf5'\n",
    "\n",
    "# fitting method\n",
    "fit_method = 'mcmc'\n",
    "\n",
    "nproc = 20 \n",
    "\n",
    "# open the photometric data\n",
    "data = np.loadtxt('ceers_crop2_photo_pz_4z5.cat')\n",
    "    \n",
    "for ii in range(0,ngals_crop2):\n",
    "    # get the SED\n",
    "    obs_flux = data[ii][idx_flux]\n",
    "    obs_flux_err = data[ii][idx_flux_err]\n",
    "    \n",
    "    # get photometric redshift\n",
    "    gal_z = data[ii][17]\n",
    "    \n",
    "    # define prior for redshift\n",
    "    ranges = {'z':[gal_z-0.7,gal_z+0.7]}\n",
    "    pr = priors(ranges)\n",
    "    params_ranges = pr.params_ranges()\n",
    "    \n",
    "    prior1 = pr.gaussian('z',gal_z,0.5)\n",
    "    params_priors = [prior1]\n",
    "    \n",
    "    # name of output FITS file:\n",
    "    name_out_fits = 'mcmc_crop2_%d.fits' % data[ii][0]\n",
    "    singleSEDfit(obs_flux, obs_flux_err, filters, models_spec, params_ranges=params_ranges, \n",
    "             params_priors=params_priors, fit_method=fit_method, gal_z=None, nrands_z=20, \n",
    "             add_igm_absorption=1, igm_type=1, nwalkers=100, nsteps=600, nproc=nproc, initfit_nmodels_mcmc=30000, \n",
    "             store_full_samplers=1, name_out_fits=name_out_fits)\n"
   ]
  },
  {
   "cell_type": "markdown",
   "metadata": {},
   "source": [
    "## 4.4. Check fitting results: make diagnostics plots"
   ]
  },
  {
   "cell_type": "code",
   "execution_count": null,
   "metadata": {},
   "outputs": [],
   "source": []
  },
  {
   "cell_type": "markdown",
   "metadata": {},
   "source": [
    "## 4.5. Make image cutout of the galaxies"
   ]
  },
  {
   "cell_type": "code",
   "execution_count": null,
   "metadata": {},
   "outputs": [],
   "source": []
  }
 ],
 "metadata": {
  "kernelspec": {
   "display_name": "Python 3",
   "language": "python",
   "name": "python3"
  },
  "language_info": {
   "codemirror_mode": {
    "name": "ipython",
    "version": 3
   },
   "file_extension": ".py",
   "mimetype": "text/x-python",
   "name": "python",
   "nbconvert_exporter": "python",
   "pygments_lexer": "ipython3",
   "version": "3.6.10"
  }
 },
 "nbformat": 4,
 "nbformat_minor": 4
}
